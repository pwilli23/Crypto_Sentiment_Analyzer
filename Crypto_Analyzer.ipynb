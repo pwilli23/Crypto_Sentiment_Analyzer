{
 "cells": [
  {
   "cell_type": "markdown",
   "id": "3e45b2e1-4888-4e67-82dc-ea6639bd7816",
   "metadata": {},
   "source": [
    "## Crypto Sentiment Analyzer"
   ]
  },
  {
   "cell_type": "code",
   "execution_count": 12,
   "id": "1bbe773e-7b37-4637-b09b-46fa637f11e8",
   "metadata": {},
   "outputs": [],
   "source": [
    "# Imports\n",
    "import os\n",
    "import requests\n",
    "import json\n",
    "import pandas as pd\n",
    "from dotenv import load_dotenv\n",
    "import alpaca_trade_api as tradeapi\n",
    "%matplotlib inline"
   ]
  },
  {
   "cell_type": "code",
   "execution_count": 13,
   "id": "62690727-5152-43d0-92ae-a57e6c2e5372",
   "metadata": {},
   "outputs": [
    {
     "data": {
      "text/plain": [
       "True"
      ]
     },
     "execution_count": 13,
     "metadata": {},
     "output_type": "execute_result"
    }
   ],
   "source": [
    "load_dotenv()"
   ]
  },
  {
   "cell_type": "markdown",
   "id": "b3738e12-2cf6-4b16-bfda-ff401d384b3b",
   "metadata": {},
   "source": [
    "## Establish Baseline Performance"
   ]
  },
  {
   "cell_type": "markdown",
   "id": "7f32d0c9-6bbe-4316-a509-9db1a307094c",
   "metadata": {},
   "source": [
    "#### Step 1: Import the OHLCV dataset into a Pandas DataFrame."
   ]
  },
  {
   "cell_type": "code",
   "execution_count": 14,
   "id": "87cf33ac-43b7-486a-a7d4-468dfe91b505",
   "metadata": {},
   "outputs": [],
   "source": [
    "# Import the OHLCV dataset into a \n",
    "\n",
    "btc_url = 'https://api.alternative.me/v2/ticker/Bitcoin/?convert=USD'\n",
    "eth_url = 'https://api.alternative.me/v2/ticker/Ethereum/?convert=USD'\n",
    "bnb_url = 'https://api.alternative.me/v2/ticker/BinanceCoin/?convert=USD'\n",
    "xrp_url = 'https://api.alternative.me/v2/ticker/ripple/?convert=USD'\n",
    "luna_url = 'https://api.alternative.me/v2/ticker/terra-luna/?convert=USD'\n",
    "cardano_url ='https://api.alternative.me/v2/ticker/cardano/?convert=USD'\n",
    "avax_url = 'https://api.alternative.me/v2/ticker/avalanche-2/?convert=USD'\n",
    "dot_url = 'https://api.alternative.me/v2/ticker/polkadot/?convert=USD'\n",
    "doge_url = 'https://api.alternative.me/v2/ticker/doge/?convert=USD'\n",
    "shiba_url= 'https://api.alternative.me/v2/ticker/shiba-inu/?convert=USD'\n",
    "api_key = os.getenv('API_Key')"
   ]
  },
  {
   "cell_type": "code",
   "execution_count": 4,
   "id": "e4a9db0a-6f4c-4bde-8dd0-8fc8d3cde8fc",
   "metadata": {},
   "outputs": [],
   "source": [
    "btc_response = requests.get(btc_url).json()\n",
    "eth_response= requests.get(eth_url).json()\n",
    "bnb_response= requests.get(bnb_url).json()\n",
    "xrp_response= requests.get(xrp_url).json()\n",
    "luna_response = requests.get(luna_url).json()\n",
    "cardano_response = requests.get(cardano_url).json()\n",
    "avax_response = requests.get(avax_url).json()\n",
    "dot_response= requests.get(dot_url).json()\n",
    "doge_response = requests.get(doge_url).json()\n",
    "shiba_response = requests.get(shiba_url).json()\n",
    "\n"
   ]
  },
  {
   "cell_type": "code",
   "execution_count": 15,
   "id": "e6717928-c3e3-4ad5-a750-c3a242249eb5",
   "metadata": {},
   "outputs": [],
   "source": [
    "alpaca_api_key= os.getenv('API_Key')\n",
    "alpaca_secret_key = os.getenv('API_Secret_Key')\n",
    "\n",
    "\n",
    "alpaca= tradeapi.REST(\n",
    "alpaca_api_key,\n",
    "alpaca_secret_key,\n",
    "api_version= \"v2\")"
   ]
  },
  {
   "cell_type": "code",
   "execution_count": 16,
   "id": "9938143d-2ba3-4c34-8c5b-80be5bf08ef0",
   "metadata": {},
   "outputs": [],
   "source": [
    "\n",
    "# Filter the date index and close columns\n",
    "tickers = ['BTC']\n",
    "# Use the pct_change function to generate returns from close prices\n",
    "timeframe = '1D'\n",
    "\n",
    "limit_rows= 1000\n",
    "# Drop all NaN values from the DataFrame\n",
    "\n",
    "start_date = pd.Timestamp('2018-01-01', tz= \"America/New_York\").isoformat()\n",
    "end_date = pd.Timestamp('2022-03-15', tz=\"America/New_York\").isoformat()\n"
   ]
  },
  {
   "cell_type": "code",
   "execution_count": 20,
   "id": "dd174f6a-da68-4375-b4c8-5778970a0cd8",
   "metadata": {},
   "outputs": [
    {
     "data": {
      "text/plain": [
       "'2018-01-01T00:00:00-05:00'"
      ]
     },
     "execution_count": 20,
     "metadata": {},
     "output_type": "execute_result"
    }
   ],
   "source": [
    "start_date"
   ]
  },
  {
   "cell_type": "code",
   "execution_count": 26,
   "id": "2ef02c16-ca3c-4bd2-9897-2333f86f8413",
   "metadata": {},
   "outputs": [
    {
     "data": {
      "text/html": [
       "<div>\n",
       "<style scoped>\n",
       "    .dataframe tbody tr th:only-of-type {\n",
       "        vertical-align: middle;\n",
       "    }\n",
       "\n",
       "    .dataframe tbody tr th {\n",
       "        vertical-align: top;\n",
       "    }\n",
       "\n",
       "    .dataframe thead th {\n",
       "        text-align: right;\n",
       "    }\n",
       "</style>\n",
       "<table border=\"1\" class=\"dataframe\">\n",
       "  <thead>\n",
       "    <tr style=\"text-align: right;\">\n",
       "      <th></th>\n",
       "      <th>open</th>\n",
       "      <th>high</th>\n",
       "      <th>low</th>\n",
       "      <th>close</th>\n",
       "      <th>volume</th>\n",
       "      <th>trade_count</th>\n",
       "      <th>vwap</th>\n",
       "      <th>symbol</th>\n",
       "    </tr>\n",
       "    <tr>\n",
       "      <th>timestamp</th>\n",
       "      <th></th>\n",
       "      <th></th>\n",
       "      <th></th>\n",
       "      <th></th>\n",
       "      <th></th>\n",
       "      <th></th>\n",
       "      <th></th>\n",
       "      <th></th>\n",
       "    </tr>\n",
       "  </thead>\n",
       "  <tbody>\n",
       "    <tr>\n",
       "      <th>2021-04-16 04:00:00+00:00</th>\n",
       "      <td>100.000</td>\n",
       "      <td>100.8900</td>\n",
       "      <td>98.7700</td>\n",
       "      <td>99.2447</td>\n",
       "      <td>4497</td>\n",
       "      <td>186</td>\n",
       "      <td>100.273227</td>\n",
       "      <td>BTC</td>\n",
       "    </tr>\n",
       "    <tr>\n",
       "      <th>2021-04-19 04:00:00+00:00</th>\n",
       "      <td>99.130</td>\n",
       "      <td>99.1300</td>\n",
       "      <td>98.9850</td>\n",
       "      <td>99.1012</td>\n",
       "      <td>4551</td>\n",
       "      <td>96</td>\n",
       "      <td>99.104105</td>\n",
       "      <td>BTC</td>\n",
       "    </tr>\n",
       "    <tr>\n",
       "      <th>2021-04-20 04:00:00+00:00</th>\n",
       "      <td>98.790</td>\n",
       "      <td>99.3000</td>\n",
       "      <td>98.7900</td>\n",
       "      <td>99.0441</td>\n",
       "      <td>3736</td>\n",
       "      <td>82</td>\n",
       "      <td>98.932931</td>\n",
       "      <td>BTC</td>\n",
       "    </tr>\n",
       "    <tr>\n",
       "      <th>2021-04-21 04:00:00+00:00</th>\n",
       "      <td>99.030</td>\n",
       "      <td>99.0100</td>\n",
       "      <td>98.9000</td>\n",
       "      <td>98.9705</td>\n",
       "      <td>997</td>\n",
       "      <td>42</td>\n",
       "      <td>98.950429</td>\n",
       "      <td>BTC</td>\n",
       "    </tr>\n",
       "    <tr>\n",
       "      <th>2021-04-22 04:00:00+00:00</th>\n",
       "      <td>98.950</td>\n",
       "      <td>99.0400</td>\n",
       "      <td>98.8600</td>\n",
       "      <td>99.0010</td>\n",
       "      <td>1599</td>\n",
       "      <td>68</td>\n",
       "      <td>98.958802</td>\n",
       "      <td>BTC</td>\n",
       "    </tr>\n",
       "    <tr>\n",
       "      <th>2021-04-23 04:00:00+00:00</th>\n",
       "      <td>99.070</td>\n",
       "      <td>99.0100</td>\n",
       "      <td>98.8801</td>\n",
       "      <td>98.9800</td>\n",
       "      <td>1903</td>\n",
       "      <td>42</td>\n",
       "      <td>98.978855</td>\n",
       "      <td>BTC</td>\n",
       "    </tr>\n",
       "    <tr>\n",
       "      <th>2021-04-26 04:00:00+00:00</th>\n",
       "      <td>99.000</td>\n",
       "      <td>99.0000</td>\n",
       "      <td>98.9082</td>\n",
       "      <td>98.9700</td>\n",
       "      <td>2503</td>\n",
       "      <td>77</td>\n",
       "      <td>98.956571</td>\n",
       "      <td>BTC</td>\n",
       "    </tr>\n",
       "    <tr>\n",
       "      <th>2021-04-27 04:00:00+00:00</th>\n",
       "      <td>98.950</td>\n",
       "      <td>98.9500</td>\n",
       "      <td>98.8200</td>\n",
       "      <td>98.8326</td>\n",
       "      <td>1317</td>\n",
       "      <td>41</td>\n",
       "      <td>98.901892</td>\n",
       "      <td>BTC</td>\n",
       "    </tr>\n",
       "    <tr>\n",
       "      <th>2021-04-28 04:00:00+00:00</th>\n",
       "      <td>98.880</td>\n",
       "      <td>98.8864</td>\n",
       "      <td>98.7600</td>\n",
       "      <td>98.8864</td>\n",
       "      <td>1001</td>\n",
       "      <td>58</td>\n",
       "      <td>98.833692</td>\n",
       "      <td>BTC</td>\n",
       "    </tr>\n",
       "    <tr>\n",
       "      <th>2021-04-29 04:00:00+00:00</th>\n",
       "      <td>98.810</td>\n",
       "      <td>98.9000</td>\n",
       "      <td>98.8000</td>\n",
       "      <td>98.8550</td>\n",
       "      <td>2466</td>\n",
       "      <td>78</td>\n",
       "      <td>98.850832</td>\n",
       "      <td>BTC</td>\n",
       "    </tr>\n",
       "    <tr>\n",
       "      <th>2021-04-30 04:00:00+00:00</th>\n",
       "      <td>98.930</td>\n",
       "      <td>98.9300</td>\n",
       "      <td>98.8800</td>\n",
       "      <td>98.8893</td>\n",
       "      <td>2422</td>\n",
       "      <td>73</td>\n",
       "      <td>98.906933</td>\n",
       "      <td>BTC</td>\n",
       "    </tr>\n",
       "    <tr>\n",
       "      <th>2021-05-03 04:00:00+00:00</th>\n",
       "      <td>98.910</td>\n",
       "      <td>98.9450</td>\n",
       "      <td>98.9100</td>\n",
       "      <td>98.9446</td>\n",
       "      <td>2307</td>\n",
       "      <td>82</td>\n",
       "      <td>99.086987</td>\n",
       "      <td>BTC</td>\n",
       "    </tr>\n",
       "    <tr>\n",
       "      <th>2021-05-04 04:00:00+00:00</th>\n",
       "      <td>99.050</td>\n",
       "      <td>99.0500</td>\n",
       "      <td>98.9600</td>\n",
       "      <td>98.9850</td>\n",
       "      <td>2847</td>\n",
       "      <td>78</td>\n",
       "      <td>99.017714</td>\n",
       "      <td>BTC</td>\n",
       "    </tr>\n",
       "    <tr>\n",
       "      <th>2021-05-05 04:00:00+00:00</th>\n",
       "      <td>99.010</td>\n",
       "      <td>99.0600</td>\n",
       "      <td>98.9940</td>\n",
       "      <td>99.0600</td>\n",
       "      <td>3315</td>\n",
       "      <td>94</td>\n",
       "      <td>99.001227</td>\n",
       "      <td>BTC</td>\n",
       "    </tr>\n",
       "    <tr>\n",
       "      <th>2021-05-06 04:00:00+00:00</th>\n",
       "      <td>99.075</td>\n",
       "      <td>99.1010</td>\n",
       "      <td>99.0310</td>\n",
       "      <td>99.0750</td>\n",
       "      <td>4313</td>\n",
       "      <td>69</td>\n",
       "      <td>99.083119</td>\n",
       "      <td>BTC</td>\n",
       "    </tr>\n",
       "    <tr>\n",
       "      <th>2021-05-07 04:00:00+00:00</th>\n",
       "      <td>99.150</td>\n",
       "      <td>99.2150</td>\n",
       "      <td>99.1475</td>\n",
       "      <td>99.1475</td>\n",
       "      <td>1834</td>\n",
       "      <td>78</td>\n",
       "      <td>99.182210</td>\n",
       "      <td>BTC</td>\n",
       "    </tr>\n",
       "    <tr>\n",
       "      <th>2021-05-10 04:00:00+00:00</th>\n",
       "      <td>99.200</td>\n",
       "      <td>99.2000</td>\n",
       "      <td>99.0700</td>\n",
       "      <td>99.1100</td>\n",
       "      <td>2968</td>\n",
       "      <td>92</td>\n",
       "      <td>99.253005</td>\n",
       "      <td>BTC</td>\n",
       "    </tr>\n",
       "  </tbody>\n",
       "</table>\n",
       "</div>"
      ],
      "text/plain": [
       "                              open      high      low    close  volume  \\\n",
       "timestamp                                                                \n",
       "2021-04-16 04:00:00+00:00  100.000  100.8900  98.7700  99.2447    4497   \n",
       "2021-04-19 04:00:00+00:00   99.130   99.1300  98.9850  99.1012    4551   \n",
       "2021-04-20 04:00:00+00:00   98.790   99.3000  98.7900  99.0441    3736   \n",
       "2021-04-21 04:00:00+00:00   99.030   99.0100  98.9000  98.9705     997   \n",
       "2021-04-22 04:00:00+00:00   98.950   99.0400  98.8600  99.0010    1599   \n",
       "2021-04-23 04:00:00+00:00   99.070   99.0100  98.8801  98.9800    1903   \n",
       "2021-04-26 04:00:00+00:00   99.000   99.0000  98.9082  98.9700    2503   \n",
       "2021-04-27 04:00:00+00:00   98.950   98.9500  98.8200  98.8326    1317   \n",
       "2021-04-28 04:00:00+00:00   98.880   98.8864  98.7600  98.8864    1001   \n",
       "2021-04-29 04:00:00+00:00   98.810   98.9000  98.8000  98.8550    2466   \n",
       "2021-04-30 04:00:00+00:00   98.930   98.9300  98.8800  98.8893    2422   \n",
       "2021-05-03 04:00:00+00:00   98.910   98.9450  98.9100  98.9446    2307   \n",
       "2021-05-04 04:00:00+00:00   99.050   99.0500  98.9600  98.9850    2847   \n",
       "2021-05-05 04:00:00+00:00   99.010   99.0600  98.9940  99.0600    3315   \n",
       "2021-05-06 04:00:00+00:00   99.075   99.1010  99.0310  99.0750    4313   \n",
       "2021-05-07 04:00:00+00:00   99.150   99.2150  99.1475  99.1475    1834   \n",
       "2021-05-10 04:00:00+00:00   99.200   99.2000  99.0700  99.1100    2968   \n",
       "\n",
       "                           trade_count        vwap symbol  \n",
       "timestamp                                                  \n",
       "2021-04-16 04:00:00+00:00          186  100.273227    BTC  \n",
       "2021-04-19 04:00:00+00:00           96   99.104105    BTC  \n",
       "2021-04-20 04:00:00+00:00           82   98.932931    BTC  \n",
       "2021-04-21 04:00:00+00:00           42   98.950429    BTC  \n",
       "2021-04-22 04:00:00+00:00           68   98.958802    BTC  \n",
       "2021-04-23 04:00:00+00:00           42   98.978855    BTC  \n",
       "2021-04-26 04:00:00+00:00           77   98.956571    BTC  \n",
       "2021-04-27 04:00:00+00:00           41   98.901892    BTC  \n",
       "2021-04-28 04:00:00+00:00           58   98.833692    BTC  \n",
       "2021-04-29 04:00:00+00:00           78   98.850832    BTC  \n",
       "2021-04-30 04:00:00+00:00           73   98.906933    BTC  \n",
       "2021-05-03 04:00:00+00:00           82   99.086987    BTC  \n",
       "2021-05-04 04:00:00+00:00           78   99.017714    BTC  \n",
       "2021-05-05 04:00:00+00:00           94   99.001227    BTC  \n",
       "2021-05-06 04:00:00+00:00           69   99.083119    BTC  \n",
       "2021-05-07 04:00:00+00:00           78   99.182210    BTC  \n",
       "2021-05-10 04:00:00+00:00           92   99.253005    BTC  "
      ]
     },
     "execution_count": 26,
     "metadata": {},
     "output_type": "execute_result"
    }
   ],
   "source": [
    "from alpaca_trade_api.rest import TimeFrame, TimeFrameUnit\n",
    "prices_df = alpaca.get_bars(\n",
    "tickers,\n",
    "# timeframe,\n",
    "TimeFrame(1, TimeFrameUnit.Day), \n",
    "# start=start_date,\n",
    "# end=end_date,\n",
    "start='2018-01-01', \n",
    "end='2022-03-15',\n",
    "limit=limit_rows).df\n",
    "\n",
    "prices_df.head(100)"
   ]
  },
  {
   "cell_type": "code",
   "execution_count": null,
   "id": "07a105ce-da88-421c-bde8-1cda5dc2d498",
   "metadata": {},
   "outputs": [],
   "source": []
  },
  {
   "cell_type": "markdown",
   "id": "c2fdb576-9a6a-4b32-bbbc-aa8e1786c5b2",
   "metadata": {},
   "source": [
    "#### Step 2: Generate trading signals using short- and long-window SMA values."
   ]
  },
  {
   "cell_type": "code",
   "execution_count": null,
   "id": "6165d25c-dd4c-44a4-956b-310f265aa991",
   "metadata": {},
   "outputs": [],
   "source": []
  },
  {
   "cell_type": "markdown",
   "id": "0a1fc257-5208-473c-98e4-2c9748ef326a",
   "metadata": {},
   "source": [
    " #### Step 3: Split the data into training and testing datasets."
   ]
  },
  {
   "cell_type": "code",
   "execution_count": null,
   "id": "b7260761-ee03-4be9-add9-33f73372f1ec",
   "metadata": {},
   "outputs": [],
   "source": []
  },
  {
   "cell_type": "markdown",
   "id": "6fc3756d-141c-41d5-995f-10cbcb7b5b24",
   "metadata": {
    "tags": []
   },
   "source": [
    "#### Step 4: Use the SVC classifier model from SKLearn's support vector machine (SVM) learning method to fit the training data and make predictions based on the testing data. Review the predictions."
   ]
  },
  {
   "cell_type": "code",
   "execution_count": null,
   "id": "515f3064-6dd9-4485-8406-fee9a4c3c37c",
   "metadata": {},
   "outputs": [],
   "source": []
  },
  {
   "cell_type": "markdown",
   "id": "d5d4970f-9d4e-41fd-a43e-242c49aa2145",
   "metadata": {},
   "source": [
    "#### Step 5: Review the classification report associated with the SVC model predictions."
   ]
  },
  {
   "cell_type": "code",
   "execution_count": null,
   "id": "2831ff0c-c9be-4d96-9bb9-b255cab93f0c",
   "metadata": {},
   "outputs": [],
   "source": []
  },
  {
   "cell_type": "markdown",
   "id": "2f80ce36-6a7b-48ec-8147-9bdc095971a9",
   "metadata": {},
   "source": [
    "#### Step 6: Create a predictions DataFrame that contains columns for “Predicted” values, “Actual Returns”, and “Strategy Returns”."
   ]
  },
  {
   "cell_type": "code",
   "execution_count": null,
   "id": "052574fb-b43e-4e7e-8647-ed3b254f167a",
   "metadata": {},
   "outputs": [],
   "source": []
  },
  {
   "cell_type": "markdown",
   "id": "c2190e28-d852-4d98-9961-c0807278a44a",
   "metadata": {},
   "source": [
    "#### Step 7: Create a cumulative return plot that shows the actual returns vs. the strategy returns. Save a PNG image of this plot. This will serve as a baseline against which to compare the effects of tuning the trading algorithm.\n"
   ]
  },
  {
   "cell_type": "code",
   "execution_count": null,
   "id": "c745c995-7d95-4c74-861f-e6c52be82e85",
   "metadata": {},
   "outputs": [],
   "source": []
  },
  {
   "cell_type": "markdown",
   "id": "48274f11-5599-43ff-a05b-65e0cd5c6c4b",
   "metadata": {},
   "source": [
    "\n",
    "#### Tune the Baseline Trading Algorithm\n"
   ]
  },
  {
   "cell_type": "code",
   "execution_count": null,
   "id": "cc31c229-036e-46c6-a744-e3fef8ffea3f",
   "metadata": {},
   "outputs": [],
   "source": []
  },
  {
   "cell_type": "markdown",
   "id": "70baf30e-45a3-4efe-b7eb-52d5b2c78cfa",
   "metadata": {},
   "source": [
    "## Evaluate a New Machine Learning Classifier"
   ]
  },
  {
   "cell_type": "code",
   "execution_count": null,
   "id": "9912ad6e-9bd0-4eff-9e0b-f433791a3b11",
   "metadata": {},
   "outputs": [],
   "source": []
  },
  {
   "cell_type": "markdown",
   "id": "e40ed827-33f9-4385-ae24-4dda780d47d7",
   "metadata": {},
   "source": [
    "#### Step 1: Import a new classifier, such as AdaBoost, DecisionTreeClassifier, or LogisticRegression. (For the full list of classifiers, refer to the Supervised learning page in the scikit-learn documentation.)"
   ]
  },
  {
   "cell_type": "code",
   "execution_count": null,
   "id": "f2e41cde-8eca-44b9-a78e-3d4e68389661",
   "metadata": {},
   "outputs": [],
   "source": []
  },
  {
   "cell_type": "markdown",
   "id": "f87cb86c-66ab-4be0-95d6-4bf03e4d7cf6",
   "metadata": {},
   "source": [
    "#### Step 2: Using the original training data as the baseline model, fit another model with the new classifier."
   ]
  },
  {
   "cell_type": "code",
   "execution_count": null,
   "id": "b66cc89b-f2ce-48c0-9bf4-6534c532e534",
   "metadata": {},
   "outputs": [],
   "source": []
  },
  {
   "cell_type": "markdown",
   "id": "855ebe78-f7ab-40f0-98fe-e460b5a2c0c8",
   "metadata": {},
   "source": [
    "#### Step 3: Backtest the new model to evaluate its performance."
   ]
  },
  {
   "cell_type": "code",
   "execution_count": null,
   "id": "806d04c4-bc05-469c-bdc9-71262c2c073d",
   "metadata": {},
   "outputs": [],
   "source": []
  },
  {
   "cell_type": "code",
   "execution_count": null,
   "id": "dbb4cfec-3b0c-4f3f-b8cf-73fc401eb478",
   "metadata": {},
   "outputs": [],
   "source": []
  }
 ],
 "metadata": {
  "kernelspec": {
   "display_name": "Python 3",
   "language": "python",
   "name": "python3"
  },
  "language_info": {
   "codemirror_mode": {
    "name": "ipython",
    "version": 3
   },
   "file_extension": ".py",
   "mimetype": "text/x-python",
   "name": "python",
   "nbconvert_exporter": "python",
   "pygments_lexer": "ipython3",
   "version": "3.7.10"
  }
 },
 "nbformat": 4,
 "nbformat_minor": 5
}

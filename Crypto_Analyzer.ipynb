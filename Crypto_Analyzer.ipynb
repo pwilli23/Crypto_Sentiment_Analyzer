{
 "cells": [
  {
   "cell_type": "markdown",
   "id": "3e45b2e1-4888-4e67-82dc-ea6639bd7816",
   "metadata": {},
   "source": [
    "## Crypto Sentiment Analyzer"
   ]
  },
  {
   "cell_type": "code",
   "execution_count": 1,
   "id": "1bbe773e-7b37-4637-b09b-46fa637f11e8",
   "metadata": {},
   "outputs": [],
   "source": [
    "# Imports"
   ]
  },
  {
   "cell_type": "markdown",
   "id": "b3738e12-2cf6-4b16-bfda-ff401d384b3b",
   "metadata": {},
   "source": [
    "## Establish Baseline Performance"
   ]
  },
  {
   "cell_type": "markdown",
   "id": "7f32d0c9-6bbe-4316-a509-9db1a307094c",
   "metadata": {},
   "source": [
    "#### Step 1: Import the OHLCV dataset into a Pandas DataFrame."
   ]
  },
  {
   "cell_type": "code",
   "execution_count": 3,
   "id": "87cf33ac-43b7-486a-a7d4-468dfe91b505",
   "metadata": {},
   "outputs": [],
   "source": [
    "# Import the OHLCV dataset into a \n",
    "\n",
    "# Review the DataFrame"
   ]
  },
  {
   "cell_type": "code",
   "execution_count": 4,
   "id": "9938143d-2ba3-4c34-8c5b-80be5bf08ef0",
   "metadata": {},
   "outputs": [],
   "source": [
    "\n",
    "# Filter the date index and close columns\n",
    "\n",
    "# Use the pct_change function to generate returns from close prices\n",
    "\n",
    "# Drop all NaN values from the DataFrame\n",
    "\n",
    "# Review the DataFrame\n"
   ]
  },
  {
   "cell_type": "markdown",
   "id": "c2fdb576-9a6a-4b32-bbbc-aa8e1786c5b2",
   "metadata": {},
   "source": [
    "#### Step 2: Generate trading signals using short- and long-window SMA values."
   ]
  },
  {
   "cell_type": "code",
   "execution_count": null,
   "id": "6165d25c-dd4c-44a4-956b-310f265aa991",
   "metadata": {},
   "outputs": [],
   "source": []
  },
  {
   "cell_type": "markdown",
   "id": "0a1fc257-5208-473c-98e4-2c9748ef326a",
   "metadata": {},
   "source": [
    " #### Step 3: Split the data into training and testing datasets."
   ]
  },
  {
   "cell_type": "code",
   "execution_count": null,
   "id": "b7260761-ee03-4be9-add9-33f73372f1ec",
   "metadata": {},
   "outputs": [],
   "source": []
  },
  {
   "cell_type": "markdown",
   "id": "6fc3756d-141c-41d5-995f-10cbcb7b5b24",
   "metadata": {
    "tags": []
   },
   "source": [
    "#### Step 4: Use the SVC classifier model from SKLearn's support vector machine (SVM) learning method to fit the training data and make predictions based on the testing data. Review the predictions."
   ]
  },
  {
   "cell_type": "code",
   "execution_count": null,
   "id": "515f3064-6dd9-4485-8406-fee9a4c3c37c",
   "metadata": {},
   "outputs": [],
   "source": []
  },
  {
   "cell_type": "markdown",
   "id": "d5d4970f-9d4e-41fd-a43e-242c49aa2145",
   "metadata": {},
   "source": [
    "#### Step 5: Review the classification report associated with the SVC model predictions."
   ]
  },
  {
   "cell_type": "code",
   "execution_count": null,
   "id": "2831ff0c-c9be-4d96-9bb9-b255cab93f0c",
   "metadata": {},
   "outputs": [],
   "source": []
  },
  {
   "cell_type": "markdown",
   "id": "2f80ce36-6a7b-48ec-8147-9bdc095971a9",
   "metadata": {},
   "source": [
    "#### Step 6: Create a predictions DataFrame that contains columns for “Predicted” values, “Actual Returns”, and “Strategy Returns”."
   ]
  },
  {
   "cell_type": "code",
   "execution_count": null,
   "id": "052574fb-b43e-4e7e-8647-ed3b254f167a",
   "metadata": {},
   "outputs": [],
   "source": []
  },
  {
   "cell_type": "markdown",
   "id": "c2190e28-d852-4d98-9961-c0807278a44a",
   "metadata": {},
   "source": [
    "#### Step 7: Create a cumulative return plot that shows the actual returns vs. the strategy returns. Save a PNG image of this plot. This will serve as a baseline against which to compare the effects of tuning the trading algorithm.\n"
   ]
  },
  {
   "cell_type": "code",
   "execution_count": null,
   "id": "c745c995-7d95-4c74-861f-e6c52be82e85",
   "metadata": {},
   "outputs": [],
   "source": []
  },
  {
   "cell_type": "markdown",
   "id": "48274f11-5599-43ff-a05b-65e0cd5c6c4b",
   "metadata": {},
   "source": [
    "\n",
    "#### Tune the Baseline Trading Algorithm\n"
   ]
  },
  {
   "cell_type": "code",
   "execution_count": null,
   "id": "cc31c229-036e-46c6-a744-e3fef8ffea3f",
   "metadata": {},
   "outputs": [],
   "source": []
  },
  {
   "cell_type": "markdown",
   "id": "70baf30e-45a3-4efe-b7eb-52d5b2c78cfa",
   "metadata": {},
   "source": [
    "## Evaluate a New Machine Learning Classifier"
   ]
  },
  {
   "cell_type": "code",
   "execution_count": null,
   "id": "9912ad6e-9bd0-4eff-9e0b-f433791a3b11",
   "metadata": {},
   "outputs": [],
   "source": []
  },
  {
   "cell_type": "markdown",
   "id": "e40ed827-33f9-4385-ae24-4dda780d47d7",
   "metadata": {},
   "source": [
    "#### Step 1: Import a new classifier, such as AdaBoost, DecisionTreeClassifier, or LogisticRegression. (For the full list of classifiers, refer to the Supervised learning page in the scikit-learn documentation.)"
   ]
  },
  {
   "cell_type": "code",
   "execution_count": null,
   "id": "f2e41cde-8eca-44b9-a78e-3d4e68389661",
   "metadata": {},
   "outputs": [],
   "source": []
  },
  {
   "cell_type": "markdown",
   "id": "f87cb86c-66ab-4be0-95d6-4bf03e4d7cf6",
   "metadata": {},
   "source": [
    "#### Step 2: Using the original training data as the baseline model, fit another model with the new classifier."
   ]
  },
  {
   "cell_type": "code",
   "execution_count": null,
   "id": "b66cc89b-f2ce-48c0-9bf4-6534c532e534",
   "metadata": {},
   "outputs": [],
   "source": []
  },
  {
   "cell_type": "markdown",
   "id": "855ebe78-f7ab-40f0-98fe-e460b5a2c0c8",
   "metadata": {},
   "source": [
    "#### Step 3: Backtest the new model to evaluate its performance."
   ]
  },
  {
   "cell_type": "code",
   "execution_count": null,
   "id": "806d04c4-bc05-469c-bdc9-71262c2c073d",
   "metadata": {},
   "outputs": [],
   "source": []
  },
  {
   "cell_type": "code",
   "execution_count": null,
   "id": "dbb4cfec-3b0c-4f3f-b8cf-73fc401eb478",
   "metadata": {},
   "outputs": [],
   "source": []
  }
 ],
 "metadata": {
  "kernelspec": {
   "display_name": "Python 3 (ipykernel)",
   "language": "python",
   "name": "python3"
  },
  "language_info": {
   "codemirror_mode": {
    "name": "ipython",
    "version": 3
   },
   "file_extension": ".py",
   "mimetype": "text/x-python",
   "name": "python",
   "nbconvert_exporter": "python",
   "pygments_lexer": "ipython3",
   "version": "3.7.11"
  }
 },
 "nbformat": 4,
 "nbformat_minor": 5
}

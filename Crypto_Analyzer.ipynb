{
 "cells": [
  {
   "cell_type": "markdown",
   "id": "3e45b2e1-4888-4e67-82dc-ea6639bd7816",
   "metadata": {},
   "source": [
    "## Crypto Sentiment Analyzer"
   ]
  },
  {
   "cell_type": "code",
   "execution_count": 2,
   "id": "1bbe773e-7b37-4637-b09b-46fa637f11e8",
   "metadata": {},
   "outputs": [],
   "source": [
    "# Imports\n",
    "import os\n",
    "import requests\n",
    "import json\n",
    "import pandas as pd\n",
    "from dotenv import load_dotenv\n",
    "import alpaca_trade_api as tradeapi\n",
    "%matplotlib inline"
   ]
  },
  {
   "cell_type": "code",
   "execution_count": 3,
   "id": "62690727-5152-43d0-92ae-a57e6c2e5372",
   "metadata": {},
   "outputs": [
    {
     "data": {
      "text/plain": [
       "True"
      ]
     },
     "execution_count": 3,
     "metadata": {},
     "output_type": "execute_result"
    }
   ],
   "source": [
    "load_dotenv()"
   ]
  },
  {
   "cell_type": "markdown",
   "id": "b3738e12-2cf6-4b16-bfda-ff401d384b3b",
   "metadata": {},
   "source": [
    "## Establish Baseline Performance"
   ]
  },
  {
   "cell_type": "markdown",
   "id": "7f32d0c9-6bbe-4316-a509-9db1a307094c",
   "metadata": {},
   "source": [
    "#### Step 1: Import the OHLCV dataset into a Pandas DataFrame."
   ]
  },
  {
   "cell_type": "code",
   "execution_count": 9,
   "id": "87cf33ac-43b7-486a-a7d4-468dfe91b505",
   "metadata": {},
   "outputs": [],
   "source": [
    "# Import the OHLCV dataset into a \n",
    "\n",
    "btc_url = 'https://api.alternative.me/v2/ticker/Bitcoin/?convert=USD'\n",
    "eth_url = 'https://api.alternative.me/v2/ticker/Ethereum/?convert=USD'\n",
    "bnb_url = 'https://api.alternative.me/v2/ticker/BinanceCoin/?convert=USD'\n",
    "xrp_url = 'https://api.alternative.me/v2/ticker/ripple/?convert=USD'\n",
    "luna_url = 'https://api.alternative.me/v2/ticker/terra-luna/?convert=USD'\n",
    "cardano_url ='https://api.alternative.me/v2/ticker/cardano/?convert=USD'\n",
    "avax_url = 'https://api.alternative.me/v2/ticker/avalanche-2/?convert=USD'\n",
    "dot_url = 'https://api.alternative.me/v2/ticker/polkadot/?convert=USD'\n",
    "doge_url = 'https://api.alternative.me/v2/ticker/doge/?convert=USD'\n",
    "shiba_url= 'https://api.alternative.me/v2/ticker/shiba-inu/?convert=USD'\n",
    "api_key = os.getenv('API_Key')"
   ]
  },
  {
   "cell_type": "code",
   "execution_count": 30,
   "id": "e4a9db0a-6f4c-4bde-8dd0-8fc8d3cde8fc",
   "metadata": {},
   "outputs": [],
   "source": [
    "btc_response = requests.get(btc_url).json()\n",
    "eth_response= requests.get(eth_url).json()\n",
    "bnb_response= requests.get(bnb_url).json()\n",
    "xrp_response= requests.get(xrp_url).json()\n",
    "luna_response = requests.get(luna_url).json()\n",
    "cardano_response = requests.get(cardano_url).json()\n",
    "avax_response = requests.get(avax_url).json()\n",
    "dot_response= requests.get(dot_url).json()\n",
    "doge_response = requests.get(doge_url).json()\n",
    "shiba_response = requests.get(shiba_url).json()\n",
    "\n"
   ]
  },
  {
   "cell_type": "code",
   "execution_count": 31,
   "id": "e6717928-c3e3-4ad5-a750-c3a242249eb5",
   "metadata": {},
   "outputs": [],
   "source": [
    "alpaca_api_key= os.getenv('API_Key')\n",
    "alpaca_secret_key = os.getenv('API_Secret_Key')\n",
    "\n",
    "\n",
    "alpaca= tradeapi.REST(\n",
    "alpaca_api_key,\n",
    "alpaca_secret_key,\n",
    "api_version= \"v2\")"
   ]
  },
  {
   "cell_type": "code",
   "execution_count": 42,
   "id": "9938143d-2ba3-4c34-8c5b-80be5bf08ef0",
   "metadata": {},
   "outputs": [],
   "source": [
    "\n",
    "# Filter the date index and close columns\n",
    "tickers = ['BTC','ETH', 'XRP', 'DOGE']\n",
    "# Use the pct_change function to generate returns from close prices\n",
    "timeframe = '1D'\n",
    "\n",
    "limit_rows = 1000\n",
    "# Drop all NaN values from the DataFrame\n",
    "\n",
    "start_date = pd.Timestamp('2018-01-01', tz= \"America/New_York\").isoformat()\n",
    "end_date = pd.Timestamp('2022-03-15', tz=\"America/New_York\").isoformat()\n"
   ]
  },
  {
   "cell_type": "code",
   "execution_count": 43,
   "id": "07a105ce-da88-421c-bde8-1cda5dc2d498",
   "metadata": {},
   "outputs": [
    {
     "data": {
      "text/html": [
       "<div>\n",
       "<style scoped>\n",
       "    .dataframe tbody tr th:only-of-type {\n",
       "        vertical-align: middle;\n",
       "    }\n",
       "\n",
       "    .dataframe tbody tr th {\n",
       "        vertical-align: top;\n",
       "    }\n",
       "\n",
       "    .dataframe thead tr th {\n",
       "        text-align: left;\n",
       "    }\n",
       "\n",
       "    .dataframe thead tr:last-of-type th {\n",
       "        text-align: right;\n",
       "    }\n",
       "</style>\n",
       "<table border=\"1\" class=\"dataframe\">\n",
       "  <thead>\n",
       "    <tr>\n",
       "      <th></th>\n",
       "      <th colspan=\"5\" halign=\"left\">BTC</th>\n",
       "      <th colspan=\"5\" halign=\"left\">DOGE</th>\n",
       "      <th colspan=\"5\" halign=\"left\">ETH</th>\n",
       "      <th colspan=\"5\" halign=\"left\">XRP</th>\n",
       "    </tr>\n",
       "    <tr>\n",
       "      <th></th>\n",
       "      <th>open</th>\n",
       "      <th>high</th>\n",
       "      <th>low</th>\n",
       "      <th>close</th>\n",
       "      <th>volume</th>\n",
       "      <th>open</th>\n",
       "      <th>high</th>\n",
       "      <th>low</th>\n",
       "      <th>close</th>\n",
       "      <th>volume</th>\n",
       "      <th>open</th>\n",
       "      <th>high</th>\n",
       "      <th>low</th>\n",
       "      <th>close</th>\n",
       "      <th>volume</th>\n",
       "      <th>open</th>\n",
       "      <th>high</th>\n",
       "      <th>low</th>\n",
       "      <th>close</th>\n",
       "      <th>volume</th>\n",
       "    </tr>\n",
       "    <tr>\n",
       "      <th>time</th>\n",
       "      <th></th>\n",
       "      <th></th>\n",
       "      <th></th>\n",
       "      <th></th>\n",
       "      <th></th>\n",
       "      <th></th>\n",
       "      <th></th>\n",
       "      <th></th>\n",
       "      <th></th>\n",
       "      <th></th>\n",
       "      <th></th>\n",
       "      <th></th>\n",
       "      <th></th>\n",
       "      <th></th>\n",
       "      <th></th>\n",
       "      <th></th>\n",
       "      <th></th>\n",
       "      <th></th>\n",
       "      <th></th>\n",
       "      <th></th>\n",
       "    </tr>\n",
       "  </thead>\n",
       "  <tbody>\n",
       "    <tr>\n",
       "      <th>2018-01-02 05:00:00+00:00</th>\n",
       "      <td>NaN</td>\n",
       "      <td>NaN</td>\n",
       "      <td>NaN</td>\n",
       "      <td>NaN</td>\n",
       "      <td>NaN</td>\n",
       "      <td>NaN</td>\n",
       "      <td>NaN</td>\n",
       "      <td>NaN</td>\n",
       "      <td>NaN</td>\n",
       "      <td>NaN</td>\n",
       "      <td>28.75</td>\n",
       "      <td>28.95</td>\n",
       "      <td>28.450</td>\n",
       "      <td>28.70</td>\n",
       "      <td>167548</td>\n",
       "      <td>NaN</td>\n",
       "      <td>NaN</td>\n",
       "      <td>NaN</td>\n",
       "      <td>NaN</td>\n",
       "      <td>NaN</td>\n",
       "    </tr>\n",
       "    <tr>\n",
       "      <th>2018-01-03 05:00:00+00:00</th>\n",
       "      <td>NaN</td>\n",
       "      <td>NaN</td>\n",
       "      <td>NaN</td>\n",
       "      <td>NaN</td>\n",
       "      <td>NaN</td>\n",
       "      <td>NaN</td>\n",
       "      <td>NaN</td>\n",
       "      <td>NaN</td>\n",
       "      <td>NaN</td>\n",
       "      <td>NaN</td>\n",
       "      <td>28.65</td>\n",
       "      <td>29.00</td>\n",
       "      <td>28.650</td>\n",
       "      <td>28.90</td>\n",
       "      <td>130523</td>\n",
       "      <td>NaN</td>\n",
       "      <td>NaN</td>\n",
       "      <td>NaN</td>\n",
       "      <td>NaN</td>\n",
       "      <td>NaN</td>\n",
       "    </tr>\n",
       "    <tr>\n",
       "      <th>2018-01-04 05:00:00+00:00</th>\n",
       "      <td>NaN</td>\n",
       "      <td>NaN</td>\n",
       "      <td>NaN</td>\n",
       "      <td>NaN</td>\n",
       "      <td>NaN</td>\n",
       "      <td>NaN</td>\n",
       "      <td>NaN</td>\n",
       "      <td>NaN</td>\n",
       "      <td>NaN</td>\n",
       "      <td>NaN</td>\n",
       "      <td>29.20</td>\n",
       "      <td>29.40</td>\n",
       "      <td>28.700</td>\n",
       "      <td>28.70</td>\n",
       "      <td>156240</td>\n",
       "      <td>NaN</td>\n",
       "      <td>NaN</td>\n",
       "      <td>NaN</td>\n",
       "      <td>NaN</td>\n",
       "      <td>NaN</td>\n",
       "    </tr>\n",
       "    <tr>\n",
       "      <th>2018-01-05 05:00:00+00:00</th>\n",
       "      <td>NaN</td>\n",
       "      <td>NaN</td>\n",
       "      <td>NaN</td>\n",
       "      <td>NaN</td>\n",
       "      <td>NaN</td>\n",
       "      <td>NaN</td>\n",
       "      <td>NaN</td>\n",
       "      <td>NaN</td>\n",
       "      <td>NaN</td>\n",
       "      <td>NaN</td>\n",
       "      <td>28.80</td>\n",
       "      <td>29.20</td>\n",
       "      <td>28.275</td>\n",
       "      <td>28.60</td>\n",
       "      <td>157747</td>\n",
       "      <td>NaN</td>\n",
       "      <td>NaN</td>\n",
       "      <td>NaN</td>\n",
       "      <td>NaN</td>\n",
       "      <td>NaN</td>\n",
       "    </tr>\n",
       "    <tr>\n",
       "      <th>2018-01-08 05:00:00+00:00</th>\n",
       "      <td>NaN</td>\n",
       "      <td>NaN</td>\n",
       "      <td>NaN</td>\n",
       "      <td>NaN</td>\n",
       "      <td>NaN</td>\n",
       "      <td>NaN</td>\n",
       "      <td>NaN</td>\n",
       "      <td>NaN</td>\n",
       "      <td>NaN</td>\n",
       "      <td>NaN</td>\n",
       "      <td>28.60</td>\n",
       "      <td>29.05</td>\n",
       "      <td>28.450</td>\n",
       "      <td>28.65</td>\n",
       "      <td>163031</td>\n",
       "      <td>NaN</td>\n",
       "      <td>NaN</td>\n",
       "      <td>NaN</td>\n",
       "      <td>NaN</td>\n",
       "      <td>NaN</td>\n",
       "    </tr>\n",
       "  </tbody>\n",
       "</table>\n",
       "</div>"
      ],
      "text/plain": [
       "                           BTC                       DOGE                  \\\n",
       "                          open high low close volume open high  low close   \n",
       "time                                                                        \n",
       "2018-01-02 05:00:00+00:00  NaN  NaN NaN   NaN    NaN  NaN  NaN  NaN   NaN   \n",
       "2018-01-03 05:00:00+00:00  NaN  NaN NaN   NaN    NaN  NaN  NaN  NaN   NaN   \n",
       "2018-01-04 05:00:00+00:00  NaN  NaN NaN   NaN    NaN  NaN  NaN  NaN   NaN   \n",
       "2018-01-05 05:00:00+00:00  NaN  NaN NaN   NaN    NaN  NaN  NaN  NaN   NaN   \n",
       "2018-01-08 05:00:00+00:00  NaN  NaN NaN   NaN    NaN  NaN  NaN  NaN   NaN   \n",
       "\n",
       "                                    ETH                                XRP  \\\n",
       "                          volume   open   high     low  close  volume open   \n",
       "time                                                                         \n",
       "2018-01-02 05:00:00+00:00    NaN  28.75  28.95  28.450  28.70  167548  NaN   \n",
       "2018-01-03 05:00:00+00:00    NaN  28.65  29.00  28.650  28.90  130523  NaN   \n",
       "2018-01-04 05:00:00+00:00    NaN  29.20  29.40  28.700  28.70  156240  NaN   \n",
       "2018-01-05 05:00:00+00:00    NaN  28.80  29.20  28.275  28.60  157747  NaN   \n",
       "2018-01-08 05:00:00+00:00    NaN  28.60  29.05  28.450  28.65  163031  NaN   \n",
       "\n",
       "                                                  \n",
       "                          high  low close volume  \n",
       "time                                              \n",
       "2018-01-02 05:00:00+00:00  NaN  NaN   NaN    NaN  \n",
       "2018-01-03 05:00:00+00:00  NaN  NaN   NaN    NaN  \n",
       "2018-01-04 05:00:00+00:00  NaN  NaN   NaN    NaN  \n",
       "2018-01-05 05:00:00+00:00  NaN  NaN   NaN    NaN  \n",
       "2018-01-08 05:00:00+00:00  NaN  NaN   NaN    NaN  "
      ]
     },
     "execution_count": 43,
     "metadata": {},
     "output_type": "execute_result"
    }
   ],
   "source": [
    "prices_df = alpaca.get_barset(\n",
    "tickers,\n",
    "timeframe,\n",
    "start=start_date,\n",
    "end=end_date,\n",
    "limit=limit_rows).df\n",
    "\n",
    "prices_df.head()"
   ]
  },
  {
   "cell_type": "markdown",
   "id": "c2fdb576-9a6a-4b32-bbbc-aa8e1786c5b2",
   "metadata": {},
   "source": [
    "#### Step 2: Generate trading signals using short- and long-window SMA values."
   ]
  },
  {
   "cell_type": "code",
   "execution_count": null,
   "id": "6165d25c-dd4c-44a4-956b-310f265aa991",
   "metadata": {},
   "outputs": [],
   "source": []
  },
  {
   "cell_type": "markdown",
   "id": "0a1fc257-5208-473c-98e4-2c9748ef326a",
   "metadata": {},
   "source": [
    " #### Step 3: Split the data into training and testing datasets."
   ]
  },
  {
   "cell_type": "code",
   "execution_count": null,
   "id": "b7260761-ee03-4be9-add9-33f73372f1ec",
   "metadata": {},
   "outputs": [],
   "source": []
  },
  {
   "cell_type": "markdown",
   "id": "6fc3756d-141c-41d5-995f-10cbcb7b5b24",
   "metadata": {
    "tags": []
   },
   "source": [
    "#### Step 4: Use the SVC classifier model from SKLearn's support vector machine (SVM) learning method to fit the training data and make predictions based on the testing data. Review the predictions."
   ]
  },
  {
   "cell_type": "code",
   "execution_count": null,
   "id": "515f3064-6dd9-4485-8406-fee9a4c3c37c",
   "metadata": {},
   "outputs": [],
   "source": []
  },
  {
   "cell_type": "markdown",
   "id": "d5d4970f-9d4e-41fd-a43e-242c49aa2145",
   "metadata": {},
   "source": [
    "#### Step 5: Review the classification report associated with the SVC model predictions."
   ]
  },
  {
   "cell_type": "code",
   "execution_count": null,
   "id": "2831ff0c-c9be-4d96-9bb9-b255cab93f0c",
   "metadata": {},
   "outputs": [],
   "source": []
  },
  {
   "cell_type": "markdown",
   "id": "2f80ce36-6a7b-48ec-8147-9bdc095971a9",
   "metadata": {},
   "source": [
    "#### Step 6: Create a predictions DataFrame that contains columns for “Predicted” values, “Actual Returns”, and “Strategy Returns”."
   ]
  },
  {
   "cell_type": "code",
   "execution_count": null,
   "id": "052574fb-b43e-4e7e-8647-ed3b254f167a",
   "metadata": {},
   "outputs": [],
   "source": []
  },
  {
   "cell_type": "markdown",
   "id": "c2190e28-d852-4d98-9961-c0807278a44a",
   "metadata": {},
   "source": [
    "#### Step 7: Create a cumulative return plot that shows the actual returns vs. the strategy returns. Save a PNG image of this plot. This will serve as a baseline against which to compare the effects of tuning the trading algorithm.\n"
   ]
  },
  {
   "cell_type": "code",
   "execution_count": null,
   "id": "c745c995-7d95-4c74-861f-e6c52be82e85",
   "metadata": {},
   "outputs": [],
   "source": []
  },
  {
   "cell_type": "markdown",
   "id": "48274f11-5599-43ff-a05b-65e0cd5c6c4b",
   "metadata": {},
   "source": [
    "\n",
    "#### Tune the Baseline Trading Algorithm\n"
   ]
  },
  {
   "cell_type": "code",
   "execution_count": null,
   "id": "cc31c229-036e-46c6-a744-e3fef8ffea3f",
   "metadata": {},
   "outputs": [],
   "source": []
  },
  {
   "cell_type": "markdown",
   "id": "70baf30e-45a3-4efe-b7eb-52d5b2c78cfa",
   "metadata": {},
   "source": [
    "## Evaluate a New Machine Learning Classifier"
   ]
  },
  {
   "cell_type": "code",
   "execution_count": null,
   "id": "9912ad6e-9bd0-4eff-9e0b-f433791a3b11",
   "metadata": {},
   "outputs": [],
   "source": []
  },
  {
   "cell_type": "markdown",
   "id": "e40ed827-33f9-4385-ae24-4dda780d47d7",
   "metadata": {},
   "source": [
    "#### Step 1: Import a new classifier, such as AdaBoost, DecisionTreeClassifier, or LogisticRegression. (For the full list of classifiers, refer to the Supervised learning page in the scikit-learn documentation.)"
   ]
  },
  {
   "cell_type": "code",
   "execution_count": null,
   "id": "f2e41cde-8eca-44b9-a78e-3d4e68389661",
   "metadata": {},
   "outputs": [],
   "source": []
  },
  {
   "cell_type": "markdown",
   "id": "f87cb86c-66ab-4be0-95d6-4bf03e4d7cf6",
   "metadata": {},
   "source": [
    "#### Step 2: Using the original training data as the baseline model, fit another model with the new classifier."
   ]
  },
  {
   "cell_type": "code",
   "execution_count": null,
   "id": "b66cc89b-f2ce-48c0-9bf4-6534c532e534",
   "metadata": {},
   "outputs": [],
   "source": []
  },
  {
   "cell_type": "markdown",
   "id": "855ebe78-f7ab-40f0-98fe-e460b5a2c0c8",
   "metadata": {},
   "source": [
    "#### Step 3: Backtest the new model to evaluate its performance."
   ]
  },
  {
   "cell_type": "code",
   "execution_count": null,
   "id": "806d04c4-bc05-469c-bdc9-71262c2c073d",
   "metadata": {},
   "outputs": [],
   "source": []
  },
  {
   "cell_type": "code",
   "execution_count": null,
   "id": "dbb4cfec-3b0c-4f3f-b8cf-73fc401eb478",
   "metadata": {},
   "outputs": [],
   "source": []
  }
 ],
 "metadata": {
  "kernelspec": {
   "display_name": "Python 3 (ipykernel)",
   "language": "python",
   "name": "python3"
  },
  "language_info": {
   "codemirror_mode": {
    "name": "ipython",
    "version": 3
   },
   "file_extension": ".py",
   "mimetype": "text/x-python",
   "name": "python",
   "nbconvert_exporter": "python",
   "pygments_lexer": "ipython3",
   "version": "3.7.11"
  }
 },
 "nbformat": 4,
 "nbformat_minor": 5
}
